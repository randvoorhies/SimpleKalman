{
 "cells": [
  {
   "cell_type": "markdown",
   "metadata": {},
   "source": [
    "## STEP 1: GENERATE DATASET"
   ]
  },
  {
   "cell_type": "code",
   "execution_count": 66,
   "metadata": {
    "collapsed": true
   },
   "outputs": [],
   "source": [
    "import numpy as np\n",
    "import matplotlib.pyplot as plt\n",
    "import pandas as pd\n",
    "plt.style.use('fivethirtyeight')\n",
    "%matplotlib inline"
   ]
  },
  {
   "cell_type": "code",
   "execution_count": 67,
   "metadata": {
    "collapsed": false
   },
   "outputs": [
    {
     "data": {
      "text/plain": [
       "[<matplotlib.lines.Line2D at 0x114721350>]"
      ]
     },
     "execution_count": 67,
     "metadata": {},
     "output_type": "execute_result"
    },
    {
     "data": {
      "image/png": "[encoded data removed]",
      "text/plain": [
       "<matplotlib.figure.Figure at 0x11481fd90>"
      ]
     },
     "metadata": {},
     "output_type": "display_data"
    }
   ],
   "source": [
    "# create dataset\n",
    "MU = 0\n",
    "SIGMA = .1\n",
    "\n",
    "t = np.linspace(-4, 4, 100)\n",
    "y_clean = np.exp( -t**2 )\n",
    "y_noisy = np.exp( -t**2 ) + np.random.normal(MU, SIGMA, t.shape)\n",
    "\n",
    "plt.plot(y_clean, c = 'b')\n",
    "plt.plot(y_noisy, c = 'g')"
   ]
  },
  {
   "cell_type": "code",
   "execution_count": 68,
   "metadata": {
    "collapsed": false
   },
   "outputs": [
    {
     "data": {
      "text/html": [
       "<div>\n",
       "<table border=\"1\" class=\"dataframe\">\n",
       "  <thead>\n",
       "    <tr style=\"text-align: right;\">\n",
       "      <th></th>\n",
       "      <th>clean</th>\n",
       "      <th>noisy</th>\n",
       "    </tr>\n",
       "  </thead>\n",
       "  <tbody>\n",
       "    <tr>\n",
       "      <th>0</th>\n",
       "      <td>1.125352e-07</td>\n",
       "      <td>-0.023173</td>\n",
       "    </tr>\n",
       "    <tr>\n",
       "      <th>1</th>\n",
       "      <td>2.134069e-07</td>\n",
       "      <td>-0.141382</td>\n",
       "    </tr>\n",
       "    <tr>\n",
       "      <th>2</th>\n",
       "      <td>3.994447e-07</td>\n",
       "      <td>-0.067744</td>\n",
       "    </tr>\n",
       "    <tr>\n",
       "      <th>3</th>\n",
       "      <td>7.379605e-07</td>\n",
       "      <td>0.006843</td>\n",
       "    </tr>\n",
       "    <tr>\n",
       "      <th>4</th>\n",
       "      <td>1.345667e-06</td>\n",
       "      <td>-0.133190</td>\n",
       "    </tr>\n",
       "  </tbody>\n",
       "</table>\n",
       "</div>"
      ],
      "text/plain": [
       "          clean     noisy\n",
       "0  1.125352e-07 -0.023173\n",
       "1  2.134069e-07 -0.141382\n",
       "2  3.994447e-07 -0.067744\n",
       "3  7.379605e-07  0.006843\n",
       "4  1.345667e-06 -0.133190"
      ]
     },
     "execution_count": 68,
     "metadata": {},
     "output_type": "execute_result"
    }
   ],
   "source": [
    "df = pd.DataFrame({'clean': y_clean, 'noisy': y_noisy})\n",
    "df.head()"
   ]
  },
  {
   "cell_type": "markdown",
   "metadata": {
    "collapsed": true
   },
   "source": [
    "## STEP 2: APPLY KALMAN FILTER"
   ]
  },
  {
   "cell_type": "code",
   "execution_count": 69,
   "metadata": {
    "collapsed": false
   },
   "outputs": [],
   "source": [
    "ALPHA = .65 # higher alphas result in cleaner signals, but introduces more lag\n",
    "\n",
    "df['filtered'] = 0\n",
    "\n",
    "for idx in range(1, df.shape[0]):\n",
    "    df.ix[idx, 'filtered'] = (ALPHA * df.ix[(idx - 1), 'filtered']) + ((1 - ALPHA) * df.ix[idx, 'noisy'])\n",
    "    \n",
    "plt.plot(df['filtered'], c = 'y')\n",
    "plt.plot(df['noisy'], c = 'g')\n",
    "plt.plot(df['clean'], c = 'b')"
   ]
  },
  {
   "cell_type": "code",
   "execution_count": null,
   "metadata": {
    "collapsed": true
   },
   "outputs": [],
   "source": []
  }
 ],
 "metadata": {
  "kernelspec": {
   "display_name": "Python 2",
   "language": "python",
   "name": "python2"
  },
  "language_info": {
   "codemirror_mode": {
    "name": "ipython",
    "version": 2
   },
   "file_extension": ".py",
   "mimetype": "text/x-python",
   "name": "python",
   "nbconvert_exporter": "python",
   "pygments_lexer": "ipython2",
   "version": "2.7.11"
  }
 },
 "nbformat": 4,
 "nbformat_minor": 0
}
